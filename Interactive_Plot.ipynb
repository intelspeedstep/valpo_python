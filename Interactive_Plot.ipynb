{
 "cells": [
  {
   "cell_type": "markdown",
   "metadata": {},
   "source": [
    "##### Name: David Geng\n",
    "###### Class: Scientific Visualization\n",
    "###### Instructor: Dr. Karl Schmitt\n",
    "###### Interactive Dashboard"
   ]
  },
  {
   "cell_type": "code",
   "execution_count": 1,
   "metadata": {},
   "outputs": [],
   "source": [
    "# import all required packages\n",
    "import pandas as pd, seaborn as sns, matplotlib.pyplot as plt, os"
   ]
  },
  {
   "cell_type": "code",
   "execution_count": 2,
   "metadata": {},
   "outputs": [
    {
     "name": "stdout",
     "output_type": "stream",
     "text": [
      "/Users/weigeng/Desktop/Python\n"
     ]
    }
   ],
   "source": [
    "# display graphs in jupyter notebook and set the directory to the Desktop\n",
    "%matplotlib inline\n",
    "%cd '/Users/weigeng/Desktop/Python'"
   ]
  },
  {
   "cell_type": "code",
   "execution_count": 3,
   "metadata": {},
   "outputs": [
    {
     "data": {
      "text/plain": [
       "'/Users/weigeng/Desktop/Python'"
      ]
     },
     "execution_count": 3,
     "metadata": {},
     "output_type": "execute_result"
    }
   ],
   "source": [
    "# check the current directory\n",
    "os.getcwd()"
   ]
  },
  {
   "cell_type": "code",
   "execution_count": 4,
   "metadata": {},
   "outputs": [],
   "source": [
    "# load the dataset into DataFram\n",
    "df=pd.read_csv('Indiana_population_citizen.csv')"
   ]
  },
  {
   "cell_type": "code",
   "execution_count": 5,
   "metadata": {},
   "outputs": [
    {
     "data": {
      "text/html": [
       "<div>\n",
       "<style scoped>\n",
       "    .dataframe tbody tr th:only-of-type {\n",
       "        vertical-align: middle;\n",
       "    }\n",
       "\n",
       "    .dataframe tbody tr th {\n",
       "        vertical-align: top;\n",
       "    }\n",
       "\n",
       "    .dataframe thead th {\n",
       "        text-align: right;\n",
       "    }\n",
       "</style>\n",
       "<table border=\"1\" class=\"dataframe\">\n",
       "  <thead>\n",
       "    <tr style=\"text-align: right;\">\n",
       "      <th></th>\n",
       "      <th>State</th>\n",
       "      <th>Total Population</th>\n",
       "      <th>US Citizen Born in the United States</th>\n",
       "      <th>US Citizen by Naturalization</th>\n",
       "      <th>US Citizen born abroad</th>\n",
       "      <th>Not a US Citizen</th>\n",
       "    </tr>\n",
       "  </thead>\n",
       "  <tbody>\n",
       "    <tr>\n",
       "      <td>0</td>\n",
       "      <td>California</td>\n",
       "      <td>38982847</td>\n",
       "      <td>27944679</td>\n",
       "      <td>5267884</td>\n",
       "      <td>519680</td>\n",
       "      <td>5250604</td>\n",
       "    </tr>\n",
       "    <tr>\n",
       "      <td>1</td>\n",
       "      <td>Texas</td>\n",
       "      <td>27419612</td>\n",
       "      <td>22400946</td>\n",
       "      <td>1667217</td>\n",
       "      <td>396271</td>\n",
       "      <td>2955178</td>\n",
       "    </tr>\n",
       "    <tr>\n",
       "      <td>2</td>\n",
       "      <td>Florida</td>\n",
       "      <td>20278447</td>\n",
       "      <td>15438189</td>\n",
       "      <td>2235304</td>\n",
       "      <td>733891</td>\n",
       "      <td>1871063</td>\n",
       "    </tr>\n",
       "    <tr>\n",
       "      <td>3</td>\n",
       "      <td>New York</td>\n",
       "      <td>19798228</td>\n",
       "      <td>14808448</td>\n",
       "      <td>2484644</td>\n",
       "      <td>499124</td>\n",
       "      <td>2006012</td>\n",
       "    </tr>\n",
       "    <tr>\n",
       "      <td>4</td>\n",
       "      <td>Pennsylvania</td>\n",
       "      <td>12790505</td>\n",
       "      <td>11728385</td>\n",
       "      <td>438578</td>\n",
       "      <td>220389</td>\n",
       "      <td>403153</td>\n",
       "    </tr>\n",
       "  </tbody>\n",
       "</table>\n",
       "</div>"
      ],
      "text/plain": [
       "          State  Total Population  US Citizen Born in the United States  \\\n",
       "0    California          38982847                              27944679   \n",
       "1         Texas          27419612                              22400946   \n",
       "2       Florida          20278447                              15438189   \n",
       "3      New York          19798228                              14808448   \n",
       "4  Pennsylvania          12790505                              11728385   \n",
       "\n",
       "   US Citizen by Naturalization  US Citizen born abroad  Not a US Citizen  \n",
       "0                       5267884                  519680           5250604  \n",
       "1                       1667217                  396271           2955178  \n",
       "2                       2235304                  733891           1871063  \n",
       "3                       2484644                  499124           2006012  \n",
       "4                        438578                  220389            403153  "
      ]
     },
     "execution_count": 5,
     "metadata": {},
     "output_type": "execute_result"
    }
   ],
   "source": [
    "# set the display option\n",
    "pd.set_option('display.max_rows',20)\n",
    "pd.set_option('display.precision',4)\n",
    "df.head()"
   ]
  },
  {
   "cell_type": "code",
   "execution_count": 6,
   "metadata": {},
   "outputs": [
    {
     "data": {
      "text/html": [
       "<div>\n",
       "<style scoped>\n",
       "    .dataframe tbody tr th:only-of-type {\n",
       "        vertical-align: middle;\n",
       "    }\n",
       "\n",
       "    .dataframe tbody tr th {\n",
       "        vertical-align: top;\n",
       "    }\n",
       "\n",
       "    .dataframe thead th {\n",
       "        text-align: right;\n",
       "    }\n",
       "</style>\n",
       "<table border=\"1\" class=\"dataframe\">\n",
       "  <thead>\n",
       "    <tr style=\"text-align: right;\">\n",
       "      <th></th>\n",
       "      <th>State</th>\n",
       "      <th>Total Population</th>\n",
       "      <th>US Citizen Born in the United States</th>\n",
       "      <th>US Citizen by Naturalization</th>\n",
       "      <th>US Citizen born abroad</th>\n",
       "      <th>Not a US Citizen</th>\n",
       "    </tr>\n",
       "  </thead>\n",
       "  <tbody>\n",
       "    <tr>\n",
       "      <td>1</td>\n",
       "      <td>Texas</td>\n",
       "      <td>27419612</td>\n",
       "      <td>22400946</td>\n",
       "      <td>1667217</td>\n",
       "      <td>396271</td>\n",
       "      <td>2955178</td>\n",
       "    </tr>\n",
       "    <tr>\n",
       "      <td>2</td>\n",
       "      <td>Florida</td>\n",
       "      <td>20278447</td>\n",
       "      <td>15438189</td>\n",
       "      <td>2235304</td>\n",
       "      <td>733891</td>\n",
       "      <td>1871063</td>\n",
       "    </tr>\n",
       "    <tr>\n",
       "      <td>3</td>\n",
       "      <td>New York</td>\n",
       "      <td>19798228</td>\n",
       "      <td>14808448</td>\n",
       "      <td>2484644</td>\n",
       "      <td>499124</td>\n",
       "      <td>2006012</td>\n",
       "    </tr>\n",
       "    <tr>\n",
       "      <td>4</td>\n",
       "      <td>Pennsylvania</td>\n",
       "      <td>12790505</td>\n",
       "      <td>11728385</td>\n",
       "      <td>438578</td>\n",
       "      <td>220389</td>\n",
       "      <td>403153</td>\n",
       "    </tr>\n",
       "    <tr>\n",
       "      <td>5</td>\n",
       "      <td>Ohio</td>\n",
       "      <td>11609756</td>\n",
       "      <td>11011732</td>\n",
       "      <td>254415</td>\n",
       "      <td>95689</td>\n",
       "      <td>247920</td>\n",
       "    </tr>\n",
       "    <tr>\n",
       "      <td>6</td>\n",
       "      <td>Illinois</td>\n",
       "      <td>12854526</td>\n",
       "      <td>10912660</td>\n",
       "      <td>886976</td>\n",
       "      <td>141008</td>\n",
       "      <td>913882</td>\n",
       "    </tr>\n",
       "    <tr>\n",
       "      <td>7</td>\n",
       "      <td>Michigan</td>\n",
       "      <td>9925568</td>\n",
       "      <td>9200023</td>\n",
       "      <td>336737</td>\n",
       "      <td>72349</td>\n",
       "      <td>316459</td>\n",
       "    </tr>\n",
       "    <tr>\n",
       "      <td>8</td>\n",
       "      <td>North Carolina</td>\n",
       "      <td>10052564</td>\n",
       "      <td>9147058</td>\n",
       "      <td>289662</td>\n",
       "      <td>117535</td>\n",
       "      <td>498309</td>\n",
       "    </tr>\n",
       "    <tr>\n",
       "      <td>9</td>\n",
       "      <td>Georgia</td>\n",
       "      <td>10201635</td>\n",
       "      <td>9040698</td>\n",
       "      <td>426341</td>\n",
       "      <td>137702</td>\n",
       "      <td>596894</td>\n",
       "    </tr>\n",
       "  </tbody>\n",
       "</table>\n",
       "</div>"
      ],
      "text/plain": [
       "            State  Total Population  US Citizen Born in the United States  \\\n",
       "1           Texas          27419612                              22400946   \n",
       "2         Florida          20278447                              15438189   \n",
       "3        New York          19798228                              14808448   \n",
       "4    Pennsylvania          12790505                              11728385   \n",
       "5            Ohio          11609756                              11011732   \n",
       "6        Illinois          12854526                              10912660   \n",
       "7        Michigan           9925568                               9200023   \n",
       "8  North Carolina          10052564                               9147058   \n",
       "9         Georgia          10201635                               9040698   \n",
       "\n",
       "   US Citizen by Naturalization  US Citizen born abroad  Not a US Citizen  \n",
       "1                       1667217                  396271           2955178  \n",
       "2                       2235304                  733891           1871063  \n",
       "3                       2484644                  499124           2006012  \n",
       "4                        438578                  220389            403153  \n",
       "5                        254415                   95689            247920  \n",
       "6                        886976                  141008            913882  \n",
       "7                        336737                   72349            316459  \n",
       "8                        289662                  117535            498309  \n",
       "9                        426341                  137702            596894  "
      ]
     },
     "execution_count": 6,
     "metadata": {},
     "output_type": "execute_result"
    }
   ],
   "source": [
    "# select top 5 populated States\n",
    "df_top_10=df[1:10]\n",
    "df_top_10"
   ]
  },
  {
   "cell_type": "code",
   "execution_count": 7,
   "metadata": {},
   "outputs": [],
   "source": [
    "from bokeh.io import output_file, show, curdoc\n",
    "from bokeh.plotting import figure\n",
    "from bokeh.models import ColumnDataSource, LabelSet, Slider\n",
    "from bokeh.layouts import column\n",
    "N=1000\n",
    "source = ColumnDataSource(df_top_10)\n",
    "plot = figure(title=\"US Citizen by Naturalization vs Not a US Citizen\")\n",
    "plot.circle(x='US Citizen by Naturalization', y='Not a US Citizen', source=source, size = 15, color=\"orange\")\n",
    "labels = LabelSet(x='US Citizen by Naturalization', y='Not a US Citizen', text='State', level='glyph',x_offset=5, y_offset=5, source=source, render_mode='canvas')\n",
    "slider=Slider(start=0,end=100000000, value=N, step=10000, title='Total Population in the State')\n",
    "def callback(attr, old, new):\n",
    "    N=slider.value\n",
    "slider.on_change('value',callback)\n",
    "layout=column(slider,plot)\n",
    "curdoc().add_root(layout)\n",
    "plot.xaxis.axis_label = 'US Citizen by Naturalization'\n",
    "plot.yaxis.axis_label = 'Not a US Citizen'\n",
    "output_file('Interactive_Chart.html')\n",
    "plot.add_layout(labels)\n",
    "show(plot)"
   ]
  },
  {
   "cell_type": "code",
   "execution_count": null,
   "metadata": {},
   "outputs": [],
   "source": []
  }
 ],
 "metadata": {
  "kernelspec": {
   "display_name": "Python 3",
   "language": "python",
   "name": "python3"
  },
  "language_info": {
   "codemirror_mode": {
    "name": "ipython",
    "version": 3
   },
   "file_extension": ".py",
   "mimetype": "text/x-python",
   "name": "python",
   "nbconvert_exporter": "python",
   "pygments_lexer": "ipython3",
   "version": "3.7.4"
  }
 },
 "nbformat": 4,
 "nbformat_minor": 4
}
