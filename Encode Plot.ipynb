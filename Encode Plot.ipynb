{
 "cells": [
  {
   "cell_type": "markdown",
   "metadata": {},
   "source": [
    "##### Name: David Geng\n",
    "###### Class: Scientific Visualization\n",
    "###### Instructor: Dr. Karl Schmitt\n",
    "###### Interactive Dashboard for Encoding"
   ]
  },
  {
   "cell_type": "code",
   "execution_count": 1,
   "metadata": {},
   "outputs": [],
   "source": [
    "# import all required packages\n",
    "import pandas as pd, seaborn as sns, matplotlib.pyplot as plt, os, numpy as np"
   ]
  },
  {
   "cell_type": "code",
   "execution_count": 2,
   "metadata": {},
   "outputs": [
    {
     "name": "stdout",
     "output_type": "stream",
     "text": [
      "/Users/weigeng/Desktop/python\n"
     ]
    }
   ],
   "source": [
    "# display graphs in jupyter notebook and set the directory to the Desktop\n",
    "%matplotlib inline\n",
    "%cd '/Users/weigeng/Desktop/Python'"
   ]
  },
  {
   "cell_type": "code",
   "execution_count": 3,
   "metadata": {},
   "outputs": [
    {
     "data": {
      "text/plain": [
       "'/Users/weigeng/Desktop/python'"
      ]
     },
     "execution_count": 3,
     "metadata": {},
     "output_type": "execute_result"
    }
   ],
   "source": [
    "# check the current directory\n",
    "os.getcwd()"
   ]
  },
  {
   "cell_type": "code",
   "execution_count": 4,
   "metadata": {},
   "outputs": [],
   "source": [
    "# load the dataset into DataFram\n",
    "df=pd.read_csv('ages_disease_data.csv')"
   ]
  },
  {
   "cell_type": "code",
   "execution_count": 5,
   "metadata": {},
   "outputs": [
    {
     "data": {
      "text/html": [
       "<div>\n",
       "<style scoped>\n",
       "    .dataframe tbody tr th:only-of-type {\n",
       "        vertical-align: middle;\n",
       "    }\n",
       "\n",
       "    .dataframe tbody tr th {\n",
       "        vertical-align: top;\n",
       "    }\n",
       "\n",
       "    .dataframe thead th {\n",
       "        text-align: right;\n",
       "    }\n",
       "</style>\n",
       "<table border=\"1\" class=\"dataframe\">\n",
       "  <thead>\n",
       "    <tr style=\"text-align: right;\">\n",
       "      <th></th>\n",
       "      <th>Unnamed: 0</th>\n",
       "      <th>Hours Exercised</th>\n",
       "      <th>age</th>\n",
       "      <th>probability</th>\n",
       "    </tr>\n",
       "  </thead>\n",
       "  <tbody>\n",
       "    <tr>\n",
       "      <th>0</th>\n",
       "      <td>0</td>\n",
       "      <td>4.1903</td>\n",
       "      <td>27</td>\n",
       "      <td>12.9272</td>\n",
       "    </tr>\n",
       "    <tr>\n",
       "      <th>1</th>\n",
       "      <td>1</td>\n",
       "      <td>4.5301</td>\n",
       "      <td>69</td>\n",
       "      <td>47.3808</td>\n",
       "    </tr>\n",
       "    <tr>\n",
       "      <th>2</th>\n",
       "      <td>2</td>\n",
       "      <td>2.7050</td>\n",
       "      <td>26</td>\n",
       "      <td>20.3988</td>\n",
       "    </tr>\n",
       "    <tr>\n",
       "      <th>3</th>\n",
       "      <td>3</td>\n",
       "      <td>1.8926</td>\n",
       "      <td>42</td>\n",
       "      <td>29.8522</td>\n",
       "    </tr>\n",
       "    <tr>\n",
       "      <th>4</th>\n",
       "      <td>4</td>\n",
       "      <td>2.4803</td>\n",
       "      <td>34</td>\n",
       "      <td>22.7703</td>\n",
       "    </tr>\n",
       "    <tr>\n",
       "      <th>5</th>\n",
       "      <td>5</td>\n",
       "      <td>4.2520</td>\n",
       "      <td>68</td>\n",
       "      <td>48.4079</td>\n",
       "    </tr>\n",
       "    <tr>\n",
       "      <th>6</th>\n",
       "      <td>6</td>\n",
       "      <td>0.5852</td>\n",
       "      <td>43</td>\n",
       "      <td>34.8717</td>\n",
       "    </tr>\n",
       "    <tr>\n",
       "      <th>7</th>\n",
       "      <td>7</td>\n",
       "      <td>6.5896</td>\n",
       "      <td>57</td>\n",
       "      <td>37.2525</td>\n",
       "    </tr>\n",
       "    <tr>\n",
       "      <th>8</th>\n",
       "      <td>8</td>\n",
       "      <td>4.0026</td>\n",
       "      <td>82</td>\n",
       "      <td>52.0330</td>\n",
       "    </tr>\n",
       "    <tr>\n",
       "      <th>9</th>\n",
       "      <td>9</td>\n",
       "      <td>4.6843</td>\n",
       "      <td>53</td>\n",
       "      <td>40.1653</td>\n",
       "    </tr>\n",
       "  </tbody>\n",
       "</table>\n",
       "</div>"
      ],
      "text/plain": [
       "   Unnamed: 0  Hours Exercised  age  probability\n",
       "0           0           4.1903   27      12.9272\n",
       "1           1           4.5301   69      47.3808\n",
       "2           2           2.7050   26      20.3988\n",
       "3           3           1.8926   42      29.8522\n",
       "4           4           2.4803   34      22.7703\n",
       "5           5           4.2520   68      48.4079\n",
       "6           6           0.5852   43      34.8717\n",
       "7           7           6.5896   57      37.2525\n",
       "8           8           4.0026   82      52.0330\n",
       "9           9           4.6843   53      40.1653"
      ]
     },
     "execution_count": 5,
     "metadata": {},
     "output_type": "execute_result"
    }
   ],
   "source": [
    "# set the display option\n",
    "pd.set_option('display.max_rows',20)\n",
    "pd.set_option('display.precision',4)\n",
    "df.head(10)"
   ]
  },
  {
   "cell_type": "code",
   "execution_count": 6,
   "metadata": {},
   "outputs": [],
   "source": [
    "# select top 5 populated States\n",
    "df_agg=df.groupby('age').mean()\n",
    "df_agg.drop(['Unnamed: 0'],axis=1,inplace=True)\n",
    "df_agg.reset_index(inplace=True)\n",
    "df_agg['size']= df_agg['Hours Exercised']*5"
   ]
  },
  {
   "cell_type": "code",
   "execution_count": 7,
   "metadata": {},
   "outputs": [],
   "source": [
    "# make the interactive Plot Using color and Size to represent the quantities\n",
    "from bokeh.io import output_file, show, curdoc\n",
    "from bokeh.plotting import figure\n",
    "from bokeh.models import ColumnDataSource, LabelSet, Slider\n",
    "from bokeh.layouts import column\n",
    "source = ColumnDataSource(df_agg)\n",
    "TOOLS = \"pan,wheel_zoom,box_zoom,reset,save,box_select,lasso_select\"\n",
    "plot = figure(title=\"Average Hour of Exercise by Age\",tools=TOOLS, x_range=(20, 90), y_range=(0, 10))\n",
    "plot.circle(x='age', y='Hours Exercised', source=source, size = 'size', color='Red')\n",
    "plot.xaxis.axis_label = 'Age'\n",
    "plot.yaxis.axis_label = 'Average Hour of Exercise'\n",
    "output_file('Encode_Chart.html')\n",
    "show(plot)"
   ]
  }
 ],
 "metadata": {
  "kernelspec": {
   "display_name": "Python 3",
   "language": "python",
   "name": "python3"
  },
  "language_info": {
   "codemirror_mode": {
    "name": "ipython",
    "version": 3
   },
   "file_extension": ".py",
   "mimetype": "text/x-python",
   "name": "python",
   "nbconvert_exporter": "python",
   "pygments_lexer": "ipython3",
   "version": "3.7.5"
  }
 },
 "nbformat": 4,
 "nbformat_minor": 4
}
